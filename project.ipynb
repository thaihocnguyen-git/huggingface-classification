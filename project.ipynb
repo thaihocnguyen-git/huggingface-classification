{
 "cells": [
  {
   "cell_type": "markdown",
   "metadata": {},
   "source": [
    "# Text Translation and Sentiment Analysis using Transformers"
   ]
  },
  {
   "cell_type": "markdown",
   "metadata": {},
   "source": [
    "## Project Overview:\n",
    "\n",
    "The objective of this project is to analyze the sentiment of movie reviews in three different languages - English, French, and Spanish. We have been given 30 movies, 10 in each language, along with their reviews and synopses in separate CSV files named `movie_reviews_eng.csv`, `movie_reviews_fr.csv`, and `movie_reviews_sp.csv`.\n",
    "\n",
    "- The first step of this project is to convert the French and Spanish reviews and synopses into English. This will allow us to analyze the sentiment of all reviews in the same language. We will be using pre-trained transformers from HuggingFace to achieve this task.\n",
    "\n",
    "- Once the translations are complete, we will create a single dataframe that contains all the movies along with their reviews, synopses, and year of release in all three languages. This dataframe will be used to perform sentiment analysis on the reviews of each movie.\n",
    "\n",
    "- Finally, we will use pretrained transformers from HuggingFace to analyze the sentiment of each review. The sentiment analysis results will be added to the dataframe. The final dataframe will have 30 rows\n",
    "\n",
    "\n",
    "The output of the project will be a CSV file with a header row that includes column names such as **Title**, **Year**, **Synopsis**, **Review**, **Review Sentiment**, and **Original Language**. The **Original Language** column will indicate the language of the review and synopsis (*en/fr/sp*) before translation. The dataframe will consist of 30 rows, with each row corresponding to a movie."
   ]
  },
  {
   "cell_type": "code",
   "execution_count": 1,
   "metadata": {},
   "outputs": [],
   "source": [
    "# imports\n",
    "import pandas as pd\n",
    "from transformers import MarianMTModel, MarianTokenizer\n",
    "from transformers import pipeline"
   ]
  },
  {
   "cell_type": "markdown",
   "metadata": {},
   "source": [
    "### Get data from `.csv` files and then preprocess data"
   ]
  },
  {
   "cell_type": "code",
   "execution_count": 18,
   "metadata": {},
   "outputs": [],
   "source": [
    "# use the `pd.read_csv()` function to read the movie_review_*.csv files into 3 separate pandas dataframes\n",
    "\n",
    "# Note: All the dataframes would have different column names. For testing purposes\n",
    "# you should have the following column names/headers -> [Title, Year, Synopsis, Review]\n",
    "LANGUAGE_KEY = \"Original Language\"\n",
    "EN = \"en\"\n",
    "ES = \"es\"\n",
    "FR = \"fr\"\n",
    "COLUMNS = [\"Title\", \"Year\", \"Synopsis\", \"Review\", LANGUAGE_KEY]\n",
    "\n",
    "\n",
    "def preprocess_data() -> pd.DataFrame:\n",
    "    \"\"\"\n",
    "    Reads movie data from .csv files, map column names, add the \"Original Language\" column,\n",
    "    and finally concatenate in one resultant dataframe called \"df\".\n",
    "    \"\"\"\n",
    "    def read_and_process(file_path: str, language: str) -> pd.DataFrame:        \n",
    "        df = pd.read_csv(file_path)\n",
    "        df[LANGUAGE_KEY] = language\n",
    "        df.columns = COLUMNS\n",
    "        return df\n",
    "        \n",
    "    df_en = read_and_process(\"data/movie_reviews_eng.csv\", EN)\n",
    "    df_fr = read_and_process(\"data/movie_reviews_fr.csv\", FR)\n",
    "    df_sp = read_and_process(\"data/movie_reviews_sp.csv\", ES)\n",
    "    \n",
    "    \n",
    "    return pd.concat((df_en, df_fr, df_sp))\n",
    "\n",
    "df = preprocess_data()"
   ]
  },
  {
   "cell_type": "code",
   "execution_count": 20,
   "metadata": {},
   "outputs": [
    {
     "data": {
      "text/html": [
       "<div>\n",
       "<style scoped>\n",
       "    .dataframe tbody tr th:only-of-type {\n",
       "        vertical-align: middle;\n",
       "    }\n",
       "\n",
       "    .dataframe tbody tr th {\n",
       "        vertical-align: top;\n",
       "    }\n",
       "\n",
       "    .dataframe thead th {\n",
       "        text-align: right;\n",
       "    }\n",
       "</style>\n",
       "<table border=\"1\" class=\"dataframe\">\n",
       "  <thead>\n",
       "    <tr style=\"text-align: right;\">\n",
       "      <th></th>\n",
       "      <th>Title</th>\n",
       "      <th>Year</th>\n",
       "      <th>Synopsis</th>\n",
       "      <th>Review</th>\n",
       "      <th>Original Language</th>\n",
       "    </tr>\n",
       "  </thead>\n",
       "  <tbody>\n",
       "    <tr>\n",
       "      <th>4</th>\n",
       "      <td>Inception</td>\n",
       "      <td>2010</td>\n",
       "      <td>Dom Cobb (Leonardo DiCaprio) is a skilled thie...</td>\n",
       "      <td>\"Inception is a mind-bending and visually stun...</td>\n",
       "      <td>en</td>\n",
       "    </tr>\n",
       "    <tr>\n",
       "      <th>8</th>\n",
       "      <td>Torrente: El brazo tonto de la ley</td>\n",
       "      <td>1998</td>\n",
       "      <td>En esta comedia española, un policía corrupto ...</td>\n",
       "      <td>\"Torrente es una película vulgar y ofensiva qu...</td>\n",
       "      <td>es</td>\n",
       "    </tr>\n",
       "    <tr>\n",
       "      <th>2</th>\n",
       "      <td>Amélie</td>\n",
       "      <td>2001</td>\n",
       "      <td>Cette comédie romantique raconte l'histoire d'...</td>\n",
       "      <td>\"Amélie est un film absolument charmant qui vo...</td>\n",
       "      <td>fr</td>\n",
       "    </tr>\n",
       "    <tr>\n",
       "      <th>8</th>\n",
       "      <td>Solo: A Star Wars Story</td>\n",
       "      <td>2018</td>\n",
       "      <td>A young Han Solo (Alden Ehrenreich) joins a gr...</td>\n",
       "      <td>\"Dull and pointless, with none of the magic of...</td>\n",
       "      <td>en</td>\n",
       "    </tr>\n",
       "    <tr>\n",
       "      <th>1</th>\n",
       "      <td>Intouchables</td>\n",
       "      <td>2011</td>\n",
       "      <td>Ce film raconte l'histoire de l'amitié improba...</td>\n",
       "      <td>\"Intouchables est un film incroyablement touch...</td>\n",
       "      <td>fr</td>\n",
       "    </tr>\n",
       "    <tr>\n",
       "      <th>8</th>\n",
       "      <td>Les Visiteurs en Amérique</td>\n",
       "      <td>2000</td>\n",
       "      <td>Dans cette suite de la comédie française Les V...</td>\n",
       "      <td>\"Le film est une perte de temps totale. Les bl...</td>\n",
       "      <td>fr</td>\n",
       "    </tr>\n",
       "    <tr>\n",
       "      <th>0</th>\n",
       "      <td>Roma</td>\n",
       "      <td>2018</td>\n",
       "      <td>Cleo (Yalitza Aparicio) es una joven empleada ...</td>\n",
       "      <td>\"Roma es una película hermosa y conmovedora qu...</td>\n",
       "      <td>es</td>\n",
       "    </tr>\n",
       "    <tr>\n",
       "      <th>4</th>\n",
       "      <td>Le Fabuleux Destin d'Amélie Poulain</td>\n",
       "      <td>2001</td>\n",
       "      <td>Cette comédie romantique raconte l'histoire d'...</td>\n",
       "      <td>\"Le Fabuleux Destin d'Amélie Poulain est un fi...</td>\n",
       "      <td>fr</td>\n",
       "    </tr>\n",
       "    <tr>\n",
       "      <th>1</th>\n",
       "      <td>La Casa de Papel</td>\n",
       "      <td>(2017-2021)</td>\n",
       "      <td>Esta serie de televisión española sigue a un g...</td>\n",
       "      <td>\"La Casa de Papel es una serie emocionante y a...</td>\n",
       "      <td>es</td>\n",
       "    </tr>\n",
       "    <tr>\n",
       "      <th>0</th>\n",
       "      <td>The Shawshank Redemption</td>\n",
       "      <td>1994</td>\n",
       "      <td>Andy Dufresne (Tim Robbins), a successful bank...</td>\n",
       "      <td>\"The Shawshank Redemption is an inspiring tale...</td>\n",
       "      <td>en</td>\n",
       "    </tr>\n",
       "  </tbody>\n",
       "</table>\n",
       "</div>"
      ],
      "text/plain": [
       "                                 Title         Year  \\\n",
       "4                            Inception         2010   \n",
       "8   Torrente: El brazo tonto de la ley         1998   \n",
       "2                               Amélie         2001   \n",
       "8              Solo: A Star Wars Story         2018   \n",
       "1                         Intouchables         2011   \n",
       "8            Les Visiteurs en Amérique         2000   \n",
       "0                                 Roma         2018   \n",
       "4  Le Fabuleux Destin d'Amélie Poulain         2001   \n",
       "1                     La Casa de Papel  (2017-2021)   \n",
       "0            The Shawshank Redemption          1994   \n",
       "\n",
       "                                            Synopsis  \\\n",
       "4  Dom Cobb (Leonardo DiCaprio) is a skilled thie...   \n",
       "8  En esta comedia española, un policía corrupto ...   \n",
       "2  Cette comédie romantique raconte l'histoire d'...   \n",
       "8  A young Han Solo (Alden Ehrenreich) joins a gr...   \n",
       "1  Ce film raconte l'histoire de l'amitié improba...   \n",
       "8  Dans cette suite de la comédie française Les V...   \n",
       "0  Cleo (Yalitza Aparicio) es una joven empleada ...   \n",
       "4  Cette comédie romantique raconte l'histoire d'...   \n",
       "1  Esta serie de televisión española sigue a un g...   \n",
       "0  Andy Dufresne (Tim Robbins), a successful bank...   \n",
       "\n",
       "                                              Review Original Language  \n",
       "4  \"Inception is a mind-bending and visually stun...                en  \n",
       "8  \"Torrente es una película vulgar y ofensiva qu...                es  \n",
       "2  \"Amélie est un film absolument charmant qui vo...                fr  \n",
       "8  \"Dull and pointless, with none of the magic of...                en  \n",
       "1  \"Intouchables est un film incroyablement touch...                fr  \n",
       "8  \"Le film est une perte de temps totale. Les bl...                fr  \n",
       "0  \"Roma es una película hermosa y conmovedora qu...                es  \n",
       "4  \"Le Fabuleux Destin d'Amélie Poulain est un fi...                fr  \n",
       "1  \"La Casa de Papel es una serie emocionante y a...                es  \n",
       "0  \"The Shawshank Redemption is an inspiring tale...                en  "
      ]
     },
     "execution_count": 20,
     "metadata": {},
     "output_type": "execute_result"
    }
   ],
   "source": [
    "df.sample(10)"
   ]
  },
  {
   "cell_type": "markdown",
   "metadata": {},
   "source": [
    "### Text translation\n",
    "\n",
    "Translate the **Review** and **Synopsis** column values to English."
   ]
  },
  {
   "cell_type": "code",
   "execution_count": 4,
   "metadata": {},
   "outputs": [
    {
     "data": {
      "application/vnd.jupyter.widget-view+json": {
       "model_id": "1355b127f593412cbfdad2b97d22c42e",
       "version_major": 2,
       "version_minor": 0
      },
      "text/plain": [
       "tokenizer_config.json:   0%|          | 0.00/42.0 [00:00<?, ?B/s]"
      ]
     },
     "metadata": {},
     "output_type": "display_data"
    },
    {
     "name": "stderr",
     "output_type": "stream",
     "text": [
      "c:\\Users\\thaih\\anaconda3\\envs\\udacity\\Lib\\site-packages\\huggingface_hub\\file_download.py:149: UserWarning: `huggingface_hub` cache-system uses symlinks by default to efficiently store duplicated files but your machine does not support them in C:\\Users\\thaih\\.cache\\huggingface\\hub\\models--Helsinki-NLP--opus-mt-fr-en. Caching files will still work but in a degraded version that might require more space on your disk. This warning can be disabled by setting the `HF_HUB_DISABLE_SYMLINKS_WARNING` environment variable. For more details, see https://huggingface.co/docs/huggingface_hub/how-to-cache#limitations.\n",
      "To support symlinks on Windows, you either need to activate Developer Mode or to run Python as an administrator. In order to see activate developer mode, see this article: https://docs.microsoft.com/en-us/windows/apps/get-started/enable-your-device-for-development\n",
      "  warnings.warn(message)\n"
     ]
    },
    {
     "data": {
      "application/vnd.jupyter.widget-view+json": {
       "model_id": "763e149c77ed4c63a86fb44f4afdfcfb",
       "version_major": 2,
       "version_minor": 0
      },
      "text/plain": [
       "source.spm:   0%|          | 0.00/802k [00:00<?, ?B/s]"
      ]
     },
     "metadata": {},
     "output_type": "display_data"
    },
    {
     "data": {
      "application/vnd.jupyter.widget-view+json": {
       "model_id": "5135fbc6eecb4393a1d71da35a8c354e",
       "version_major": 2,
       "version_minor": 0
      },
      "text/plain": [
       "target.spm:   0%|          | 0.00/778k [00:00<?, ?B/s]"
      ]
     },
     "metadata": {},
     "output_type": "display_data"
    },
    {
     "data": {
      "application/vnd.jupyter.widget-view+json": {
       "model_id": "cabbe7069f77416192471537fa8c5d3f",
       "version_major": 2,
       "version_minor": 0
      },
      "text/plain": [
       "vocab.json:   0%|          | 0.00/1.34M [00:00<?, ?B/s]"
      ]
     },
     "metadata": {},
     "output_type": "display_data"
    },
    {
     "name": "stderr",
     "output_type": "stream",
     "text": [
      "c:\\Users\\thaih\\anaconda3\\envs\\udacity\\Lib\\site-packages\\transformers\\models\\marian\\tokenization_marian.py:197: UserWarning: Recommended: pip install sacremoses.\n",
      "  warnings.warn(\"Recommended: pip install sacremoses.\")\n"
     ]
    },
    {
     "data": {
      "application/vnd.jupyter.widget-view+json": {
       "model_id": "52094e7a01534d85bd2dff1b1b114799",
       "version_major": 2,
       "version_minor": 0
      },
      "text/plain": [
       "tokenizer_config.json:   0%|          | 0.00/44.0 [00:00<?, ?B/s]"
      ]
     },
     "metadata": {},
     "output_type": "display_data"
    },
    {
     "name": "stderr",
     "output_type": "stream",
     "text": [
      "c:\\Users\\thaih\\anaconda3\\envs\\udacity\\Lib\\site-packages\\huggingface_hub\\file_download.py:149: UserWarning: `huggingface_hub` cache-system uses symlinks by default to efficiently store duplicated files but your machine does not support them in C:\\Users\\thaih\\.cache\\huggingface\\hub\\models--Helsinki-NLP--opus-mt-es-en. Caching files will still work but in a degraded version that might require more space on your disk. This warning can be disabled by setting the `HF_HUB_DISABLE_SYMLINKS_WARNING` environment variable. For more details, see https://huggingface.co/docs/huggingface_hub/how-to-cache#limitations.\n",
      "To support symlinks on Windows, you either need to activate Developer Mode or to run Python as an administrator. In order to see activate developer mode, see this article: https://docs.microsoft.com/en-us/windows/apps/get-started/enable-your-device-for-development\n",
      "  warnings.warn(message)\n"
     ]
    },
    {
     "data": {
      "application/vnd.jupyter.widget-view+json": {
       "model_id": "5c84592df87a407fa29d96a299c668ef",
       "version_major": 2,
       "version_minor": 0
      },
      "text/plain": [
       "source.spm:   0%|          | 0.00/826k [00:00<?, ?B/s]"
      ]
     },
     "metadata": {},
     "output_type": "display_data"
    },
    {
     "data": {
      "application/vnd.jupyter.widget-view+json": {
       "model_id": "ae5fe9541d0f45bfac5131b9a9d10e4c",
       "version_major": 2,
       "version_minor": 0
      },
      "text/plain": [
       "target.spm:   0%|          | 0.00/802k [00:00<?, ?B/s]"
      ]
     },
     "metadata": {},
     "output_type": "display_data"
    },
    {
     "data": {
      "application/vnd.jupyter.widget-view+json": {
       "model_id": "44c032b46fab44289a8bcdc9ff1f1784",
       "version_major": 2,
       "version_minor": 0
      },
      "text/plain": [
       "vocab.json:   0%|          | 0.00/1.59M [00:00<?, ?B/s]"
      ]
     },
     "metadata": {},
     "output_type": "display_data"
    }
   ],
   "source": [
    "# load translation models and tokenizers\n",
    "# TODO 2: Update the code below\n",
    "def model_name(src, target):\n",
    "    return f\"Helsinki-NLP/opus-mt-{src}-{target}\"\n",
    "\n",
    "fr_en_model_name = model_name(\"fr\", \"en\")\n",
    "es_en_model_name = model_name(\"es\", \"en\")\n",
    "fr_en_model = MarianMTModel.from_pretrained(fr_en_model_name)\n",
    "es_en_model = MarianMTModel.from_pretrained(es_en_model_name)\n",
    "fr_en_tokenizer = MarianTokenizer.from_pretrained(fr_en_model_name)\n",
    "es_en_tokenizer = MarianTokenizer.from_pretrained(es_en_model_name)\n",
    "\n",
    "# TODO 3: Complete the function below\n",
    "def translate(text: str, model, tokenizer) -> str:\n",
    "    \"\"\"\n",
    "    function to translate a text using a model and tokenizer\n",
    "    \"\"\"\n",
    "    # encode the text using the tokenizer\n",
    "    inputs = tokenizer(text, return_tensors=\"pt\", padding=True)\n",
    "\n",
    "    # generate the translation using the model\n",
    "    outputs = model.generate(**inputs)\n",
    "\n",
    "    # decode the generated output and return the translated text\n",
    "    decoded = [tokenizer.decode(t, skip_special_tokens=True) for t in outputs]\n",
    "    return decoded"
   ]
  },
  {
   "cell_type": "code",
   "execution_count": 28,
   "metadata": {},
   "outputs": [],
   "source": [
    "# TODO 4: Update the code below\n",
    "\n",
    "# filter reviews in French and translate to English\n",
    "from typing import Dict, Sequence\n",
    "\n",
    "\n",
    "fr_reviews = df[df[\"Original Language\"]==FR][\"Review\"].values\n",
    "fr_reviews_en = [translate(review, fr_en_model, fr_en_tokenizer) for review in fr_reviews]\n",
    "\n",
    "# filter synopsis in French and translate to English\n",
    "fr_synopsis = df[df[\"Original Language\"]==FR]['Synopsis'].values\n",
    "fr_synopsis_en = [translate(synopsis, fr_en_model, fr_en_tokenizer) for synopsis in fr_synopsis]\n",
    "\n",
    "# filter reviews in Spanish and translate to English\n",
    "es_reviews = df[df[\"Original Language\"]==ES]['Review'].values\n",
    "es_reviews_en = [translate(review, es_en_model, es_en_tokenizer) for review in es_reviews]\n",
    "\n",
    "# filter synopsis in Spanish and translate to English\n",
    "es_synopsis = df[df[\"Original Language\"]==ES][\"Synopsis\"].values\n",
    "es_synopsis_en = [translate(synopsis, es_en_model, es_en_tokenizer) for synopsis in es_synopsis]\n",
    "\n",
    "# update dataframe with translated text\n",
    "# add the translated reviews and synopsis - you can overwrite the existing data\n",
    "df.loc[df[\"Original Language\"]==FR, \"Review\"] = fr_reviews_en\n",
    "df.loc[df[\"Original Language\"]==FR, \"Synopsis\"] = fr_synopsis_en\n",
    "df.loc[df[\"Original Language\"]==ES, \"Review\"] = es_reviews_en\n",
    "df.loc[df[\"Original Language\"]==ES, \"Synopsis\"] = es_synopsis_en\n",
    "\n",
    "\n"
   ]
  },
  {
   "cell_type": "code",
   "execution_count": 37,
   "metadata": {},
   "outputs": [
    {
     "data": {
      "text/html": [
       "<div>\n",
       "<style scoped>\n",
       "    .dataframe tbody tr th:only-of-type {\n",
       "        vertical-align: middle;\n",
       "    }\n",
       "\n",
       "    .dataframe tbody tr th {\n",
       "        vertical-align: top;\n",
       "    }\n",
       "\n",
       "    .dataframe thead th {\n",
       "        text-align: right;\n",
       "    }\n",
       "</style>\n",
       "<table border=\"1\" class=\"dataframe\">\n",
       "  <thead>\n",
       "    <tr style=\"text-align: right;\">\n",
       "      <th></th>\n",
       "      <th>Title</th>\n",
       "      <th>Year</th>\n",
       "      <th>Synopsis</th>\n",
       "      <th>Review</th>\n",
       "      <th>Original Language</th>\n",
       "    </tr>\n",
       "  </thead>\n",
       "  <tbody>\n",
       "    <tr>\n",
       "      <th>8</th>\n",
       "      <td>Les Visiteurs en Amérique</td>\n",
       "      <td>2000</td>\n",
       "      <td>In this continuation of the French comedy The ...</td>\n",
       "      <td>\"The film is a total waste of time. The jokes ...</td>\n",
       "      <td>fr</td>\n",
       "    </tr>\n",
       "    <tr>\n",
       "      <th>1</th>\n",
       "      <td>Intouchables</td>\n",
       "      <td>2011</td>\n",
       "      <td>This film tells the story of the unlikely frie...</td>\n",
       "      <td>\"Untouchables is an incredibly touching film w...</td>\n",
       "      <td>fr</td>\n",
       "    </tr>\n",
       "    <tr>\n",
       "      <th>6</th>\n",
       "      <td>Toc Toc</td>\n",
       "      <td>2017</td>\n",
       "      <td>In this Spanish comedy, a group of people with...</td>\n",
       "      <td>\"Toc Toc is a boring and unoriginal film that ...</td>\n",
       "      <td>es</td>\n",
       "    </tr>\n",
       "    <tr>\n",
       "      <th>4</th>\n",
       "      <td>Amores perros</td>\n",
       "      <td>2000</td>\n",
       "      <td>Three stories intertwine in this Mexican film:...</td>\n",
       "      <td>\"Amores dogs is an intense and moving film tha...</td>\n",
       "      <td>es</td>\n",
       "    </tr>\n",
       "    <tr>\n",
       "      <th>9</th>\n",
       "      <td>The Island</td>\n",
       "      <td>2005</td>\n",
       "      <td>In a future where people are cloned for organ ...</td>\n",
       "      <td>\"The Island is a bland and forgettable sci-fi ...</td>\n",
       "      <td>en</td>\n",
       "    </tr>\n",
       "    <tr>\n",
       "      <th>8</th>\n",
       "      <td>Torrente: El brazo tonto de la ley</td>\n",
       "      <td>1998</td>\n",
       "      <td>In this Spanish comedy, a corrupt cop (played ...</td>\n",
       "      <td>\"Torrente is a vulgar and offensive film that ...</td>\n",
       "      <td>es</td>\n",
       "    </tr>\n",
       "    <tr>\n",
       "      <th>3</th>\n",
       "      <td>El Laberinto del Fauno</td>\n",
       "      <td>2006</td>\n",
       "      <td>During the Spanish postwar period, Ofelia (Iva...</td>\n",
       "      <td>\"The Labyrinth of Fauno is a fascinating and e...</td>\n",
       "      <td>es</td>\n",
       "    </tr>\n",
       "    <tr>\n",
       "      <th>0</th>\n",
       "      <td>The Shawshank Redemption</td>\n",
       "      <td>1994</td>\n",
       "      <td>Andy Dufresne (Tim Robbins), a successful bank...</td>\n",
       "      <td>\"The Shawshank Redemption is an inspiring tale...</td>\n",
       "      <td>en</td>\n",
       "    </tr>\n",
       "    <tr>\n",
       "      <th>9</th>\n",
       "      <td>El Incidente</td>\n",
       "      <td>2014</td>\n",
       "      <td>In this Mexican horror film, a group of people...</td>\n",
       "      <td>\"The Incident is a boring and frightless film ...</td>\n",
       "      <td>es</td>\n",
       "    </tr>\n",
       "    <tr>\n",
       "      <th>6</th>\n",
       "      <td>La Tour Montparnasse Infernale</td>\n",
       "      <td>2001</td>\n",
       "      <td>Two incompetent office workers find themselves...</td>\n",
       "      <td>\"I can't believe I've wasted time watching thi...</td>\n",
       "      <td>fr</td>\n",
       "    </tr>\n",
       "  </tbody>\n",
       "</table>\n",
       "</div>"
      ],
      "text/plain": [
       "                                Title  Year  \\\n",
       "8           Les Visiteurs en Amérique  2000   \n",
       "1                        Intouchables  2011   \n",
       "6                             Toc Toc  2017   \n",
       "4                       Amores perros  2000   \n",
       "9                          The Island  2005   \n",
       "8  Torrente: El brazo tonto de la ley  1998   \n",
       "3              El Laberinto del Fauno  2006   \n",
       "0           The Shawshank Redemption   1994   \n",
       "9                        El Incidente  2014   \n",
       "6      La Tour Montparnasse Infernale  2001   \n",
       "\n",
       "                                            Synopsis  \\\n",
       "8  In this continuation of the French comedy The ...   \n",
       "1  This film tells the story of the unlikely frie...   \n",
       "6  In this Spanish comedy, a group of people with...   \n",
       "4  Three stories intertwine in this Mexican film:...   \n",
       "9  In a future where people are cloned for organ ...   \n",
       "8  In this Spanish comedy, a corrupt cop (played ...   \n",
       "3  During the Spanish postwar period, Ofelia (Iva...   \n",
       "0  Andy Dufresne (Tim Robbins), a successful bank...   \n",
       "9  In this Mexican horror film, a group of people...   \n",
       "6  Two incompetent office workers find themselves...   \n",
       "\n",
       "                                              Review Original Language  \n",
       "8  \"The film is a total waste of time. The jokes ...                fr  \n",
       "1  \"Untouchables is an incredibly touching film w...                fr  \n",
       "6  \"Toc Toc is a boring and unoriginal film that ...                es  \n",
       "4  \"Amores dogs is an intense and moving film tha...                es  \n",
       "9  \"The Island is a bland and forgettable sci-fi ...                en  \n",
       "8  \"Torrente is a vulgar and offensive film that ...                es  \n",
       "3  \"The Labyrinth of Fauno is a fascinating and e...                es  \n",
       "0  \"The Shawshank Redemption is an inspiring tale...                en  \n",
       "9  \"The Incident is a boring and frightless film ...                es  \n",
       "6  \"I can't believe I've wasted time watching thi...                fr  "
      ]
     },
     "execution_count": 37,
     "metadata": {},
     "output_type": "execute_result"
    }
   ],
   "source": [
    "df.sample(10)"
   ]
  },
  {
   "cell_type": "markdown",
   "metadata": {},
   "source": [
    "### Sentiment Analysis\n",
    "\n",
    "Use HuggingFace pretrained model for sentiment analysis of the reviews. Store the sentiment result **Positive** or **Negative** in a new column titled **Sentiment** in the dataframe."
   ]
  },
  {
   "cell_type": "code",
   "execution_count": 46,
   "metadata": {},
   "outputs": [
    {
     "name": "stderr",
     "output_type": "stream",
     "text": [
      "c:\\Users\\thaih\\anaconda3\\envs\\udacity\\Lib\\site-packages\\transformers\\pipelines\\text_classification.py:104: UserWarning: `return_all_scores` is now deprecated,  if want a similar functionality use `top_k=None` instead of `return_all_scores=True` or `top_k=1` instead of `return_all_scores=False`.\n",
      "  warnings.warn(\n"
     ]
    }
   ],
   "source": [
    "# TODO 5: Update the code below\n",
    "# load sentiment analysis model\n",
    "from transformers import pipeline\n",
    "model_name = \"lxyuan/distilbert-base-multilingual-cased-sentiments-student\"\n",
    "sentiment_classifier = pipeline(model=model_name, return_all_scores=True)\n",
    "\n",
    "# TODO 6: Complete the function below\n",
    "def analyze_sentiment(text, classifier):\n",
    "    \"\"\"\n",
    "    function to perform sentiment analysis on a text using a model\n",
    "    \"\"\"\n",
    "    output = classifier(text)[0]\n",
    "    return max(output, key=lambda x: x[\"score\"])['label']"
   ]
  },
  {
   "cell_type": "code",
   "execution_count": 47,
   "metadata": {},
   "outputs": [],
   "source": [
    "# TODO 7: Add code below for sentiment analysis\n",
    "# perform sentiment analysis on reviews and store results in new column\n",
    "df[\"Sentiment\"] = df[\"Review\"].apply(lambda x: analyze_sentiment(x, sentiment_classifier))"
   ]
  },
  {
   "cell_type": "code",
   "execution_count": 48,
   "metadata": {},
   "outputs": [
    {
     "data": {
      "text/html": [
       "<div>\n",
       "<style scoped>\n",
       "    .dataframe tbody tr th:only-of-type {\n",
       "        vertical-align: middle;\n",
       "    }\n",
       "\n",
       "    .dataframe tbody tr th {\n",
       "        vertical-align: top;\n",
       "    }\n",
       "\n",
       "    .dataframe thead th {\n",
       "        text-align: right;\n",
       "    }\n",
       "</style>\n",
       "<table border=\"1\" class=\"dataframe\">\n",
       "  <thead>\n",
       "    <tr style=\"text-align: right;\">\n",
       "      <th></th>\n",
       "      <th>Title</th>\n",
       "      <th>Year</th>\n",
       "      <th>Synopsis</th>\n",
       "      <th>Review</th>\n",
       "      <th>Original Language</th>\n",
       "      <th>Sentiment Analysis</th>\n",
       "    </tr>\n",
       "  </thead>\n",
       "  <tbody>\n",
       "    <tr>\n",
       "      <th>1</th>\n",
       "      <td>Intouchables</td>\n",
       "      <td>2011</td>\n",
       "      <td>This film tells the story of the unlikely frie...</td>\n",
       "      <td>\"Untouchables is an incredibly touching film w...</td>\n",
       "      <td>fr</td>\n",
       "      <td>positive</td>\n",
       "    </tr>\n",
       "    <tr>\n",
       "      <th>6</th>\n",
       "      <td>Scott Pilgrim vs. the World</td>\n",
       "      <td>2010</td>\n",
       "      <td>Scott Pilgrim (Michael Cera) must defeat his n...</td>\n",
       "      <td>\"It was difficult to sit through the whole thi...</td>\n",
       "      <td>en</td>\n",
       "      <td>negative</td>\n",
       "    </tr>\n",
       "    <tr>\n",
       "      <th>0</th>\n",
       "      <td>La La Land</td>\n",
       "      <td>2016</td>\n",
       "      <td>This musical tells the story of a budding actr...</td>\n",
       "      <td>\"The Land is an absolutely beautiful film with...</td>\n",
       "      <td>fr</td>\n",
       "      <td>positive</td>\n",
       "    </tr>\n",
       "    <tr>\n",
       "      <th>5</th>\n",
       "      <td>Le Dîner de Cons</td>\n",
       "      <td>1998</td>\n",
       "      <td>The film follows the story of a group of rich ...</td>\n",
       "      <td>\"I didn't like this movie at all. The concept ...</td>\n",
       "      <td>fr</td>\n",
       "      <td>negative</td>\n",
       "    </tr>\n",
       "    <tr>\n",
       "      <th>3</th>\n",
       "      <td>El Laberinto del Fauno</td>\n",
       "      <td>2006</td>\n",
       "      <td>During the Spanish postwar period, Ofelia (Iva...</td>\n",
       "      <td>\"The Labyrinth of Fauno is a fascinating and e...</td>\n",
       "      <td>es</td>\n",
       "      <td>positive</td>\n",
       "    </tr>\n",
       "    <tr>\n",
       "      <th>3</th>\n",
       "      <td>The Godfather</td>\n",
       "      <td>1972</td>\n",
       "      <td>Don Vito Corleone (Marlon Brando) is the head ...</td>\n",
       "      <td>\"The Godfather is a classic movie that stands ...</td>\n",
       "      <td>en</td>\n",
       "      <td>positive</td>\n",
       "    </tr>\n",
       "    <tr>\n",
       "      <th>9</th>\n",
       "      <td>Babylon A.D.</td>\n",
       "      <td>2008</td>\n",
       "      <td>In the distant future, a mercenary has to esco...</td>\n",
       "      <td>\"This film is a complete mess. The characters ...</td>\n",
       "      <td>fr</td>\n",
       "      <td>negative</td>\n",
       "    </tr>\n",
       "    <tr>\n",
       "      <th>1</th>\n",
       "      <td>The Dark Knight</td>\n",
       "      <td>2008</td>\n",
       "      <td>Batman (Christian Bale) teams up with District...</td>\n",
       "      <td>\"The Dark Knight is a thrilling and intense su...</td>\n",
       "      <td>en</td>\n",
       "      <td>positive</td>\n",
       "    </tr>\n",
       "    <tr>\n",
       "      <th>6</th>\n",
       "      <td>Toc Toc</td>\n",
       "      <td>2017</td>\n",
       "      <td>In this Spanish comedy, a group of people with...</td>\n",
       "      <td>\"Toc Toc is a boring and unoriginal film that ...</td>\n",
       "      <td>es</td>\n",
       "      <td>negative</td>\n",
       "    </tr>\n",
       "    <tr>\n",
       "      <th>0</th>\n",
       "      <td>The Shawshank Redemption</td>\n",
       "      <td>1994</td>\n",
       "      <td>Andy Dufresne (Tim Robbins), a successful bank...</td>\n",
       "      <td>\"The Shawshank Redemption is an inspiring tale...</td>\n",
       "      <td>en</td>\n",
       "      <td>positive</td>\n",
       "    </tr>\n",
       "  </tbody>\n",
       "</table>\n",
       "</div>"
      ],
      "text/plain": [
       "                         Title  Year  \\\n",
       "1                 Intouchables  2011   \n",
       "6  Scott Pilgrim vs. the World  2010   \n",
       "0                   La La Land  2016   \n",
       "5             Le Dîner de Cons  1998   \n",
       "3       El Laberinto del Fauno  2006   \n",
       "3               The Godfather   1972   \n",
       "9                 Babylon A.D.  2008   \n",
       "1             The Dark Knight   2008   \n",
       "6                      Toc Toc  2017   \n",
       "0    The Shawshank Redemption   1994   \n",
       "\n",
       "                                            Synopsis  \\\n",
       "1  This film tells the story of the unlikely frie...   \n",
       "6  Scott Pilgrim (Michael Cera) must defeat his n...   \n",
       "0  This musical tells the story of a budding actr...   \n",
       "5  The film follows the story of a group of rich ...   \n",
       "3  During the Spanish postwar period, Ofelia (Iva...   \n",
       "3  Don Vito Corleone (Marlon Brando) is the head ...   \n",
       "9  In the distant future, a mercenary has to esco...   \n",
       "1  Batman (Christian Bale) teams up with District...   \n",
       "6  In this Spanish comedy, a group of people with...   \n",
       "0  Andy Dufresne (Tim Robbins), a successful bank...   \n",
       "\n",
       "                                              Review Original Language  \\\n",
       "1  \"Untouchables is an incredibly touching film w...                fr   \n",
       "6  \"It was difficult to sit through the whole thi...                en   \n",
       "0  \"The Land is an absolutely beautiful film with...                fr   \n",
       "5  \"I didn't like this movie at all. The concept ...                fr   \n",
       "3  \"The Labyrinth of Fauno is a fascinating and e...                es   \n",
       "3  \"The Godfather is a classic movie that stands ...                en   \n",
       "9  \"This film is a complete mess. The characters ...                fr   \n",
       "1  \"The Dark Knight is a thrilling and intense su...                en   \n",
       "6  \"Toc Toc is a boring and unoriginal film that ...                es   \n",
       "0  \"The Shawshank Redemption is an inspiring tale...                en   \n",
       "\n",
       "  Sentiment Analysis  \n",
       "1           positive  \n",
       "6           negative  \n",
       "0           positive  \n",
       "5           negative  \n",
       "3           positive  \n",
       "3           positive  \n",
       "9           negative  \n",
       "1           positive  \n",
       "6           negative  \n",
       "0           positive  "
      ]
     },
     "execution_count": 48,
     "metadata": {},
     "output_type": "execute_result"
    }
   ],
   "source": [
    "df.sample(10)"
   ]
  },
  {
   "cell_type": "code",
   "execution_count": null,
   "metadata": {},
   "outputs": [],
   "source": [
    "# export the results to a .csv file\n",
    "df.to_csv(\"result/reviews_with_sentiment.csv\", index=False)"
   ]
  }
 ],
 "metadata": {
  "kernelspec": {
   "display_name": "Python 3 (ipykernel)",
   "language": "python",
   "name": "python3"
  },
  "language_info": {
   "codemirror_mode": {
    "name": "ipython",
    "version": 3
   },
   "file_extension": ".py",
   "mimetype": "text/x-python",
   "name": "python",
   "nbconvert_exporter": "python",
   "pygments_lexer": "ipython3",
   "version": "3.11.8"
  }
 },
 "nbformat": 4,
 "nbformat_minor": 1
}
